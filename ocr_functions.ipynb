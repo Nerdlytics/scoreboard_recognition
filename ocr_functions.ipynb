{
 "cells": [
  {
   "cell_type": "code",
   "execution_count": 3,
   "metadata": {},
   "outputs": [],
   "source": [
    "# Placeholder\n",
    "# Package Load\n",
    "import numpy as np\n",
    "import pandas as pd\n",
    "import argparse\n",
    "import time\n",
    "import cv2\n",
    "from imutils.object_detection import non_max_suppression\n",
    "import pytesseract\n",
    "import matplotlib.pyplot as plt\n",
    "import matplotlib.image as mpimg"
   ]
  },
  {
   "cell_type": "code",
   "execution_count": null,
   "metadata": {},
   "outputs": [],
   "source": [
    "def detect_text(img, east, min_confidence=0.5, width = 320, height = 320, padding=0.5):\n",
    "    # load the input image and grab the image dimensions\n",
    "    image = img\n",
    "    orig = image.copy()\n",
    "    (origH, origW) = image.shape[:2]\n",
    "\n",
    "    # set the new width and height and then determine the ratio in change\n",
    "    # for both the width and height\n",
    "    (newW, newH) = (width, height)\n",
    "    rW = origW / float(newW)\n",
    "    rH = origH / float(newH)\n",
    "\n",
    "    # resize the image and grab the new image dimensions\n",
    "    image = cv2.resize(image, (newW, newH))\n",
    "    (H, W) = image.shape[:2]\n",
    "\n",
    "    # define the two output layer names for the EAST detector model that\n",
    "    # we are interested -- the first is the output probabilities and the\n",
    "    # second can be used to derive the bounding box coordinates of text\n",
    "    layerNames = [\n",
    "        \"feature_fusion/Conv_7/Sigmoid\",\n",
    "        \"feature_fusion/concat_3\"]\n",
    "\n",
    "    # load the pre-trained EAST text detector\n",
    "    net = east\n",
    "\n",
    "    # construct a blob from the image and then perform a forward pass of\n",
    "    # the model to obtain the two output layer sets\n",
    "    blob = cv2.dnn.blobFromImage(image, 1.0, (W, H),\n",
    "                                 (123.68, 116.78, 103.94), swapRB=True, crop=False)\n",
    "    start = time.time()\n",
    "    net.setInput(blob)\n",
    "    (scores, geometry) = net.forward(layerNames)\n",
    "    end = time.time()\n",
    "\n",
    "    # show timing information on text prediction\n",
    "    #print(\"[INFO] text detection took {:.6f} seconds\".format(end - start))\n",
    "\n",
    "    # grab the number of rows and columns from the scores volume, then\n",
    "    # initialize our set of bounding box rectangles and corresponding\n",
    "    # confidence scores\n",
    "    (numRows, numCols) = scores.shape[2:4]\n",
    "    rects = []\n",
    "    confidences = []\n",
    "\n",
    "    # loop over the number of rows\n",
    "    for y in range(0, numRows):\n",
    "        # extract the scores (probabilities), followed by the geometrical\n",
    "        # data used to derive potential bounding box coordinates that\n",
    "        # surround text\n",
    "        scoresData = scores[0, 0, y]\n",
    "        xData0 = geometry[0, 0, y]\n",
    "        xData1 = geometry[0, 1, y]\n",
    "        xData2 = geometry[0, 2, y]\n",
    "        xData3 = geometry[0, 3, y]\n",
    "        anglesData = geometry[0, 4, y]\n",
    "\n",
    "        # loop over the number of columns\n",
    "        for x in range(0, numCols):\n",
    "            # if our score does not have sufficient probability, ignore it\n",
    "            if scoresData[x] < min_confidence:\n",
    "                continue\n",
    "\n",
    "            # compute the offset factor as our resulting feature maps will\n",
    "            # be 4x smaller than the input image\n",
    "            (offsetX, offsetY) = (x * 4.0, y * 4.0)\n",
    "\n",
    "            # extract the rotation angle for the prediction and then\n",
    "            # compute the sin and cosine\n",
    "            angle = anglesData[x]\n",
    "            cos = np.cos(angle)\n",
    "            sin = np.sin(angle)\n",
    "\n",
    "            # use the geometry volume to derive the width and height of\n",
    "            # the bounding box\n",
    "            h = xData0[x] + xData2[x]\n",
    "            w = xData1[x] + xData3[x]\n",
    "\n",
    "            # A more accurate bounding box for rotated text\n",
    "            offsetX = offsetX + cos * xData1[x] + sin * xData2[x]\n",
    "            offsetY = offsetY - sin * xData1[x] + cos * xData2[x]\n",
    "\n",
    "            # calculate the UL and LR corners of the bounding rectangle\n",
    "            p1x = -cos * w + offsetX\n",
    "            p1y = -cos * h + offsetY\n",
    "            p3x = -sin * h + offsetX\n",
    "            p3y = sin * w + offsetY\n",
    "\n",
    "            # add the bounding box coordinates\n",
    "            rects.append((p1x, p1y, p3x, p3y))\n",
    "            confidences.append(scoresData[x])\n",
    "\n",
    "    # apply non-maxima suppression to suppress weak, overlapping bounding\n",
    "    # boxes\n",
    "    boxes = non_max_suppression(np.array(rects), probs=confidences)\n",
    "    \n",
    "    pytesseract.pytesseract.tesseract_cmd = r'C:\\Program Files\\Tesseract-OCR\\tesseract'\n",
    "    #pytesseract.pytesseract.tesseract_cmd = r'/usr/local/bin/tesseract'\n",
    "    \n",
    "    results = []\n",
    "    \n",
    "    # loop over the bounding boxes\n",
    "    for (startX, startY, endX, endY) in boxes:\n",
    "        # scale the bounding box coordinates based on the respective\n",
    "        # ratios\n",
    "        startX = int(startX * rW)\n",
    "        startY = int(startY * rH)\n",
    "        endX = int(endX * rW)\n",
    "        endY = int(endY * rH)\n",
    "        # in order to obtain a better OCR of the text we can potentially\n",
    "        # apply a bit of padding surrounding the bounding box -- here we\n",
    "        # are computing the deltas in both the x and y directions\n",
    "        dX = int((endX - startX) * padding)\n",
    "        dY = int((endY - startY) * padding)\n",
    "\n",
    "        # apply padding to each side of the bounding box, respectively\n",
    "        startX = max(0, startX - dX)\n",
    "        startY = max(0, startY - dY)\n",
    "        endX = min(origW, endX + (dX * 2))\n",
    "        endY = min(origH, endY + (dY * 2))\n",
    "        \n",
    "        # extract the actual padded ROI\n",
    "        roi = orig[startY:endY, startX:endX]\n",
    "        text = ocr_text(img=roi)\n",
    "        results.append(((startX, startY, endX, endY), text))\n",
    "        \n",
    "        \n",
    "    # sort the results bounding box coordinates from top to bottom\n",
    "    results = sorted(results, key=lambda r:r[0][1])\n",
    "    \n",
    "    for ((startX, startY, endX, endY), text) in results:\n",
    "        # show the output image\n",
    "        display_ocr_text(startX, startY, endX, endY, text)\n"
   ]
  },
  {
   "cell_type": "code",
   "execution_count": 18,
   "metadata": {},
   "outputs": [],
   "source": [
    "def display_ocr_text(startX, startY, endX, endY, text):    \n",
    "    # display the text OCR'd by Tesseract\n",
    "    print(\"OCR TEXT\")\n",
    "    print(\"========\")\n",
    "    print(\"{}\\n\".format(text))\n",
    "\n",
    "    # strip out non-ASCII text so we can draw the text on the image\n",
    "    # using OpenCV, then draw the text and a bounding box surrounding\n",
    "    # the text region of the input image\n",
    "    text = \"\".join([c if ord(c) < 128 else \"\" for c in text]).strip()\n",
    "    output = orig.copy()\n",
    "    cv2.rectangle(output, (startX, startY), (endX, endY), (0, 0, 255), 2)\n",
    "    cv2.putText(output, text, (startX, startY - 20), cv2.FONT_HERSHEY_SIMPLEX, 1.2, (0, 0, 255), 3)\n",
    "        \n",
    "        #Show the image with matplotlib instead to avoid crash\n",
    "    plt.imshow(output)\n",
    "    plt.show()\n",
    "    "
   ]
  },
  {
   "cell_type": "code",
   "execution_count": 10,
   "metadata": {},
   "outputs": [],
   "source": [
    "def ocr_text(img, language=\"eng\", oem=\"1\", psm=\"7\"):\n",
    "    # in order to apply Tesseract v4 to OCR text we must supply\n",
    "    # (1) a language, (2) an OEM flag of 4, indicating that the we\n",
    "    # wish to use the LSTM neural net model for OCR, and finally\n",
    "    # (3) an OEM value, in this case, 7 which implies that we are\n",
    "    # treating the ROI as a single line of text\n",
    "    pytesseract.pytesseract.tesseract_cmd = r'C:\\Program Files\\Tesseract-OCR\\tesseract'\n",
    "    config = (\"-l \"+language+\" --oem \"+oem+\" --psm \"+psm)\n",
    "    text = pytesseract.image_to_string(img, config=config)\n",
    "\n",
    "    # add the bounding box coordinates and OCR'd text to the list\n",
    "    # of results\n",
    "    return(text)"
   ]
  },
  {
   "cell_type": "code",
   "execution_count": 24,
   "metadata": {},
   "outputs": [],
   "source": [
    "workdir = 'C:/Users/David/Desktop/Raspberry_Pi/Projects/Scoreboard/'\n",
    "image = cv2.imread(workdir+'Images/btn_osu_minn.JPG')\n",
    "scoreboard = image[910:970, 360:1600]\n",
    "width_splits = [[0,240], [330, 410], [415, 630], [740, 830], [850, 1000], [1000, 1100], [1110, 1200]]\n",
    "height_splits = [0,50]\n",
    "east = cv2.dnn.readNet('frozen_east_text_detection.pb')\n",
    "\n",
    "text = []\n",
    "\n",
    "for w in width_splits:\n",
    "    crop_image = scoreboard[height_splits[0]:height_splits[1], w[0]:w[1]]\n",
    "    ocrtext = ocr_text(crop_image)\n",
    "    text.append(ocrtext)"
   ]
  },
  {
   "cell_type": "code",
   "execution_count": 25,
   "metadata": {},
   "outputs": [
    {
     "data": {
      "text/plain": [
       "['| 3 OHIO STATE', 'A9', 'sei.)', '63', '2nd Half', '7:00', 're']"
      ]
     },
     "execution_count": 25,
     "metadata": {},
     "output_type": "execute_result"
    }
   ],
   "source": [
    "text"
   ]
  },
  {
   "cell_type": "code",
   "execution_count": 21,
   "metadata": {},
   "outputs": [
    {
     "data": {
      "image/png": "[encoded data removed]",
      "text/plain": [
       "<Figure size 432x288 with 1 Axes>"
      ]
     },
     "metadata": {
      "needs_background": "light"
     },
     "output_type": "display_data"
    }
   ],
   "source": [
    "plt.imshow(scoreboard[height_splits[0]:height_splits[1], width_splits[0][0]:width_splits[0][1]])\n",
    "plt.show()"
   ]
  },
  {
   "cell_type": "code",
   "execution_count": null,
   "metadata": {},
   "outputs": [],
   "source": []
  }
 ],
 "metadata": {
  "kernelspec": {
   "display_name": "Python 3",
   "language": "python",
   "name": "python3"
  },
  "language_info": {
   "codemirror_mode": {
    "name": "ipython",
    "version": 3
   },
   "file_extension": ".py",
   "mimetype": "text/x-python",
   "name": "python",
   "nbconvert_exporter": "python",
   "pygments_lexer": "ipython3",
   "version": "3.7.1"
  }
 },
 "nbformat": 4,
 "nbformat_minor": 2
}
